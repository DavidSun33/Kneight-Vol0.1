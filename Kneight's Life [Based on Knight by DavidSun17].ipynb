{
 "cells": [
  {
   "cell_type": "code",
   "execution_count": 1,
   "id": "7b6a5cb1",
   "metadata": {},
   "outputs": [
    {
     "name": "stdout",
     "output_type": "stream",
     "text": [
      "pygame 2.1.2 (SDL 2.0.16, Python 3.8.10)\n",
      "Hello from the pygame community. https://www.pygame.org/contribute.html\n"
     ]
    }
   ],
   "source": [
    "#Test RPG by David Sun\n",
    "#December 31, 2022\n",
    "#This has no copyright information. I created it by myself. \n",
    "\n",
    "import pygame\n",
    "pygame.init()\n",
    "\n",
    "win = pygame.display.set_mode((2475,2000))\n",
    "pygame.display.set_caption(\"Dope RPG\")\n",
    "\n",
    "x = 0\n",
    "y = 0\n",
    "\n",
    "vel = 5\n",
    "\n",
    "run = True\n",
    "cImg = pygame.image.load('Kneight200x200pix.png')\n",
    "bg = pygame.image.load(\"BGKneight'sPath.png\")\n",
    "win.blit(cImg, (0,0))\n",
    "while run:\n",
    "    pygame.time.delay(100)\n",
    "\n",
    "    for event in pygame.event.get():\n",
    "        if event.type == pygame.QUIT:\n",
    "            run = False\n",
    "\n",
    "    keys = pygame.key.get_pressed()\n",
    "    \n",
    "    if keys[pygame.K_LEFT]:\n",
    "        x -= vel\n",
    "\n",
    "    if keys[pygame.K_RIGHT]:\n",
    "        x += vel\n",
    "\n",
    "    if keys[pygame.K_UP]:\n",
    "        y -= vel\n",
    "\n",
    "    if keys[pygame.K_DOWN]:\n",
    "        y += vel\n",
    "    win.fill((26, 150, 59))  # Fills the screen with dark greenish grass\n",
    "    win.blit(cImg,(x,y))   \n",
    "    pygame.display.update() \n",
    "    \n",
    "pygame.quit()\n",
    "\n",
    "#some more ideas\n",
    "#Can put people to interact with\n",
    "#to be done"
   ]
  },
  {
   "cell_type": "code",
   "execution_count": null,
   "id": "031dddd9",
   "metadata": {},
   "outputs": [],
   "source": []
  },
  {
   "cell_type": "code",
   "execution_count": null,
   "id": "edd8b849",
   "metadata": {},
   "outputs": [],
   "source": []
  }
 ],
 "metadata": {
  "kernelspec": {
   "display_name": "Python 3 (ipykernel)",
   "language": "python",
   "name": "python3"
  },
  "language_info": {
   "codemirror_mode": {
    "name": "ipython",
    "version": 3
   },
   "file_extension": ".py",
   "mimetype": "text/x-python",
   "name": "python",
   "nbconvert_exporter": "python",
   "pygments_lexer": "ipython3",
   "version": "3.8.10"
  }
 },
 "nbformat": 4,
 "nbformat_minor": 5
}
